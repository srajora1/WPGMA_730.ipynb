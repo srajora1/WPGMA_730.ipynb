{
 "cells": [
  {
   "cell_type": "code",
   "execution_count": 94,
   "metadata": {},
   "outputs": [],
   "source": [
    "from skbio import Alignment, DNA\n",
    "from skbio.stats.distance import DistanceMatrix\n",
    "import numpy as np\n",
    "from scipy.cluster.hierarchy import average, dendrogram"
   ]
  },
  {
   "cell_type": "code",
   "execution_count": 81,
   "metadata": {},
   "outputs": [],
   "source": [
    "aln = Alignment([DNA('ACCGTGAAGCCAATAC', 's1'),\n",
    "                 DNA('AACGTGCAACCATTAC', 's2'),\n",
    "                 DNA('AGCGTGCAGCCAATAC', 's3'),\n",
    "                 DNA('AGGGTGCCGCAAATAC', 's4'),\n",
    "                 DNA('AGGGTGCCACAAATAC', 's5')])"
   ]
  },
  {
   "cell_type": "code",
   "execution_count": 82,
   "metadata": {},
   "outputs": [],
   "source": [
    "%psource aln.distances"
   ]
  },
  {
   "cell_type": "code",
   "execution_count": 83,
   "metadata": {},
   "outputs": [
    {
     "name": "stdout",
     "output_type": "stream",
     "text": [
      "5x5 distance matrix\n",
      "IDs:\n",
      "s1, s2, s3, s4, s5\n",
      "Data:\n",
      "[[0.     0.25   0.125  0.3125 0.375 ]\n",
      " [0.25   0.     0.1875 0.375  0.3125]\n",
      " [0.125  0.1875 0.     0.1875 0.25  ]\n",
      " [0.3125 0.375  0.1875 0.     0.0625]\n",
      " [0.375  0.3125 0.25   0.0625 0.    ]]\n"
     ]
    }
   ],
   "source": [
    "master_dm = aln.distances()\n",
    "print(master_dm)"
   ]
  },
  {
   "cell_type": "code",
   "execution_count": 84,
   "metadata": {},
   "outputs": [
    {
     "name": "stdout",
     "output_type": "stream",
     "text": [
      "5x5 distance matrix\n",
      "IDs:\n",
      "s1, s2, s3, s4, s5\n",
      "Data:\n",
      "[[0. 4. 2. 5. 6.]\n",
      " [4. 0. 3. 6. 5.]\n",
      " [2. 3. 0. 3. 4.]\n",
      " [5. 6. 3. 0. 1.]\n",
      " [6. 5. 4. 1. 0.]]\n"
     ]
    }
   ],
   "source": [
    "master_dm = DistanceMatrix(master_dm.data*16, master_dm.ids)\n",
    "print(master_dm)"
   ]
  },
  {
   "cell_type": "code",
   "execution_count": 85,
   "metadata": {},
   "outputs": [],
   "source": [
    "iter1_ids = ['s1', 's2', 's3', '(s4, s5)']\n",
    "iter1_dm = [[0.0,   4.0,  2.0, None],\n",
    "            [4.0,   0.0,  3.0, None],\n",
    "            [2.0,   3.0,  0.0, None],\n",
    "            [None, None, None, None]]"
   ]
  },
  {
   "cell_type": "code",
   "execution_count": 86,
   "metadata": {},
   "outputs": [
    {
     "name": "stdout",
     "output_type": "stream",
     "text": [
      "5.5\n",
      "5.5\n",
      "3.5\n"
     ]
    }
   ],
   "source": [
    "print(np.mean([master_dm[0][3], master_dm[0][4]]))\n",
    "print(np.mean([master_dm[1][3], master_dm[1][4]]))\n",
    "print(np.mean([master_dm[2][3], master_dm[2][4]]))"
   ]
  },
  {
   "cell_type": "code",
   "execution_count": 87,
   "metadata": {},
   "outputs": [
    {
     "name": "stdout",
     "output_type": "stream",
     "text": [
      "4x4 distance matrix\n",
      "IDs:\n",
      "s1, s2, s3, (s4, s5)\n",
      "Data:\n",
      "[[0.  4.  2.  5.5]\n",
      " [4.  0.  3.  5.5]\n",
      " [2.  3.  0.  3.5]\n",
      " [5.5 5.5 3.5 0. ]]\n"
     ]
    }
   ],
   "source": [
    "iter1_dm = [[0.0, 4.0, 2.0, 5.5],\n",
    "      [4.0, 0.0, 3.0, 5.5],\n",
    "      [2.0, 3.0, 0.0, 3.5],\n",
    "      [5.5, 5.5, 3.5, 0.0]]\n",
    "\n",
    "iter1_dm = DistanceMatrix(iter1_dm, iter1_ids)\n",
    "print(iter1_dm)"
   ]
  },
  {
   "cell_type": "code",
   "execution_count": 88,
   "metadata": {},
   "outputs": [],
   "source": [
    "iter2_ids = ['(s1, s3)', 's2', '(s4, s5)']\n",
    "\n",
    "iter2_dm = [[None, None, None],\n",
    "      [None,  0.0, 5.5],\n",
    "      [None,  5.5, 0.0]]"
   ]
  },
  {
   "cell_type": "code",
   "execution_count": 89,
   "metadata": {},
   "outputs": [
    {
     "name": "stdout",
     "output_type": "stream",
     "text": [
      "3.5\n",
      "4.5\n"
     ]
    }
   ],
   "source": [
    "print(np.mean([master_dm[1][0], master_dm[1][2]]))\n",
    "print(np.mean([master_dm[0][3], master_dm[0][4], master_dm[2][3], master_dm[2][4]]))"
   ]
  },
  {
   "cell_type": "code",
   "execution_count": 90,
   "metadata": {},
   "outputs": [
    {
     "name": "stdout",
     "output_type": "stream",
     "text": [
      "3x3 distance matrix\n",
      "IDs:\n",
      "(s1, s3), s2, (s4, s5)\n",
      "Data:\n",
      "[[0.  3.5 4.5]\n",
      " [3.5 0.  5.5]\n",
      " [4.5 5.5 0. ]]\n"
     ]
    }
   ],
   "source": [
    "iter2_dm = [[0.0, 3.5, 4.5],\n",
    "            [3.5, 0.0, 5.5],\n",
    "            [4.5, 5.5, 0.0]]\n",
    "\n",
    "iter2_dm = DistanceMatrix(iter2_dm, iter2_ids)\n",
    "print(iter2_dm)"
   ]
  },
  {
   "cell_type": "code",
   "execution_count": 91,
   "metadata": {},
   "outputs": [],
   "source": [
    "iter3_ids = ['((s1, s3), s2)', '(s4, s5)']\n",
    "\n",
    "iter3_dm = [[None, None],\n",
    "            [None,  0.0]]"
   ]
  },
  {
   "cell_type": "code",
   "execution_count": 92,
   "metadata": {},
   "outputs": [
    {
     "name": "stdout",
     "output_type": "stream",
     "text": [
      "4.833333333333333\n"
     ]
    }
   ],
   "source": [
    "print(np.mean([master_dm[0][3], master_dm[0][4], master_dm[2][3], master_dm[2][4], master_dm[1][3], master_dm[1][4]]))"
   ]
  },
  {
   "cell_type": "code",
   "execution_count": 93,
   "metadata": {},
   "outputs": [
    {
     "name": "stdout",
     "output_type": "stream",
     "text": [
      "2x2 distance matrix\n",
      "IDs:\n",
      "((s1, s3), s2), (s4, s5)\n",
      "Data:\n",
      "[[0.  4.8]\n",
      " [4.8 0. ]]\n"
     ]
    }
   ],
   "source": [
    "iter3_dm = [[0.0, 4.8],\n",
    "            [4.8, 0.0]]\n",
    "\n",
    "iter3_dm = DistanceMatrix(iter3_dm, iter3_ids)\n",
    "print(iter3_dm)"
   ]
  },
  {
   "cell_type": "code",
   "execution_count": 97,
   "metadata": {},
   "outputs": [
    {
     "data": {
      "image/png": "[encoded data removed]",
      "text/plain": [
       "<Figure size 432x288 with 1 Axes>"
      ]
     },
     "metadata": {
      "needs_background": "light"
     },
     "output_type": "display_data"
    }
   ],
   "source": [
    "lm = average(master_dm.condensed_form())\n",
    "d = dendrogram(lm, labels=master_dm.ids, orientation='right',\n",
    "               link_color_func=lambda x: 'black')"
   ]
  },
  {
   "cell_type": "code",
   "execution_count": null,
   "metadata": {},
   "outputs": [],
   "source": []
  }
 ],
 "metadata": {
  "kernelspec": {
   "display_name": "Python 3",
   "language": "python",
   "name": "python3"
  },
  "language_info": {
   "codemirror_mode": {
    "name": "ipython",
    "version": 3
   },
   "file_extension": ".py",
   "mimetype": "text/x-python",
   "name": "python",
   "nbconvert_exporter": "python",
   "pygments_lexer": "ipython3",
   "version": "3.7.1"
  }
 },
 "nbformat": 4,
 "nbformat_minor": 2
}
